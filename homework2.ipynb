{
 "cells": [
  {
   "cell_type": "code",
   "execution_count": 6,
   "id": "initial_id",
   "metadata": {
    "collapsed": true,
    "ExecuteTime": {
     "end_time": "2023-09-25T17:48:20.483307Z",
     "start_time": "2023-09-25T17:48:20.475839Z"
    }
   },
   "outputs": [],
   "source": [
    "import pandas as pd\n",
    "import seaborn as sns\n",
    "import matplotlib.pyplot as plt\n"
   ]
  },
  {
   "cell_type": "code",
   "execution_count": 5,
   "outputs": [],
   "source": [
    "BlastDataA = pd.read_csv('PlayerA-BlastData-InGame.csv', encoding='unicode_escape', skiprows=7)\n",
    "BlastDataB = pd.read_csv('PlayerB-BlastData-InGame.csv', encoding='unicode_escape', skiprows=7)\n",
    "BlastDataC = pd.read_csv('PlayerC-BlastData-InGame.csv', encoding='unicode_escape', skiprows=7)"
   ],
   "metadata": {
    "collapsed": false,
    "ExecuteTime": {
     "end_time": "2023-09-25T17:48:19.278451Z",
     "start_time": "2023-09-25T17:48:19.257698Z"
    }
   },
   "id": "187c3dd1a211cd8c"
  },
  {
   "cell_type": "code",
   "execution_count": null,
   "outputs": [],
   "source": [
    "# Get averages for bat speed, attack angle, and time to contact for Player 1\n",
    "\n",
    "#Impact Metrics\n",
    "AVG_BatSpeed = BlastDataA[\"BatSpeed\"].mean()\n",
    "AVG_BatSpeed = round(AVG_BatSpeed, 1)\n",
    "AVG_AttackAngle = round(BlastDataA[\"AttackAngle\"].mean(), 1)\n",
    "AVG_TimeToContact = round(BlastDataA[\"TimetoContact\"].mean(), 2)\n",
    "AVG_Power = round(BlastDataA['Power'].mean(), 2)\n",
    "\n",
    "#Swing metrics\n",
    "AVG_Connection = round(BlastDataA['ConnectionatImpact'].mean(), 2)\n",
    "AVG_OnPlane = round(BlastDataA['OnPlaneEfficiency'].mean(), 2)\n",
    "AVG_Rotational = round(BlastDataA['RotationalAcceleration'].mean(), 2)\n",
    "\n",
    "#Batting Stats for Player 2\n",
    "\n",
    "#Impact Metrics\n",
    "AVG_BatSpeedB = BlastDataA[\"BatSpeed\"].mean()\n",
    "AVG_BatSpeedB = round(AVG_BatSpeedB, 1)\n",
    "AVG_AttackAngleB = round(BlastDataB[\"AttackAngle\"].mean(), 1)\n",
    "AVG_TimeToContactB = round(BlastDataB[\"TimetoContact\"].mean(), 2)\n",
    "AVG_PowerB = round(BlastDataB['Power'].mean(), 2)\n",
    "\n",
    "#Swing metrics\n",
    "AVG_ConnectionB = round(BlastDataB['ConnectionatImpact'].mean(), 2)\n",
    "AVG_OnPlaneB = round(BlastDataB['OnPlaneEfficiency'].mean(), 2)\n",
    "AVG_RotationalB = round(BlastDataB['RotationalAcceleration'].mean(), 2)"
   ],
   "metadata": {
    "collapsed": false
   },
   "id": "1b49736b6c53a373"
  },
  {
   "cell_type": "code",
   "execution_count": 1,
   "outputs": [
    {
     "ename": "NameError",
     "evalue": "name 'BlastDataA' is not defined",
     "output_type": "error",
     "traceback": [
      "\u001B[0;31m---------------------------------------------------------------------------\u001B[0m",
      "\u001B[0;31mNameError\u001B[0m                                 Traceback (most recent call last)",
      "Cell \u001B[0;32mIn[1], line 1\u001B[0m\n\u001B[0;32m----> 1\u001B[0m \u001B[38;5;28mprint\u001B[39m(\u001B[43mBlastDataA\u001B[49m)\n",
      "\u001B[0;31mNameError\u001B[0m: name 'BlastDataA' is not defined"
     ]
    }
   ],
   "source": [
    "print(BlastDataA)"
   ],
   "metadata": {
    "collapsed": false,
    "ExecuteTime": {
     "end_time": "2023-09-25T17:57:20.293737Z",
     "start_time": "2023-09-25T17:57:19.991924Z"
    }
   },
   "id": "f5de031b646aa7c0"
  },
  {
   "cell_type": "code",
   "execution_count": null,
   "outputs": [],
   "source": [],
   "metadata": {
    "collapsed": false
   },
   "id": "d4141c200db215c8"
  }
 ],
 "metadata": {
  "kernelspec": {
   "display_name": "Python 3",
   "language": "python",
   "name": "python3"
  },
  "language_info": {
   "codemirror_mode": {
    "name": "ipython",
    "version": 2
   },
   "file_extension": ".py",
   "mimetype": "text/x-python",
   "name": "python",
   "nbconvert_exporter": "python",
   "pygments_lexer": "ipython2",
   "version": "2.7.6"
  }
 },
 "nbformat": 4,
 "nbformat_minor": 5
}
